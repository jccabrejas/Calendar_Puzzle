{
 "cells": [
  {
   "cell_type": "code",
   "execution_count": 22,
   "metadata": {},
   "outputs": [
    {
     "name": "stdout",
     "output_type": "stream",
     "text": [
      "(2, 6) (5, 5)\n"
     ]
    },
    {
     "data": {
      "image/png": "[encoded data removed]",
      "text/plain": [
       "<Figure size 432x288 with 1 Axes>"
      ]
     },
     "metadata": {
      "needs_background": "light"
     },
     "output_type": "display_data"
    }
   ],
   "source": [
    "import matplotlib.pyplot as plt\n",
    "import numpy as np\n",
    "from itertools import product\n",
    "\n",
    "date_label = 'Dec-19'\n",
    "month, day = date_label.split('-')\n",
    "\n",
    "sol = {'A': {(1, 2), (2, 1), (3, 1), (1, 1), (3, 2)}, 'B': {(6, 2), (6, 1), (5, 1), (4, 2), (4, 1), (5, 2)}, 'C': {(4, 4), (6, 5), (4, 3), (5, 4), (6, 4)}, 'D': {(4, 6), (4, 5), (5, 6), (6, 6), (3, 5)}, 'E': {(3, 7), (5, 7), (6, 7), (3, 6), (4, 7)}, 'F': {(7, 1), (7, 3), (7, 2), (5, 3), (6, 3)}, 'G': {(2, 4), (3, 4), (2, 3), (3, 3), (2, 2)}, 'H': {(1, 5), (1, 4), (1, 6), (2, 5), (1, 3)}}\n",
    "\n",
    "grid = np.zeros((9, 9))\n",
    "\n",
    "grid[:, :] = 0\n",
    "x, y, z = list(), list(), list()\n",
    "value = 50\n",
    "for k, v in sorted(sol.items()):\n",
    "    for r, c in v:\n",
    "        grid[r, c] = value\n",
    "    value += 50\n",
    "\n",
    "text_conversion = dict()\n",
    "points = set(product(range(1,9), range(1,9)))\n",
    "for p in points:\n",
    "    text_conversion[p] = ''\n",
    "\n",
    "\n",
    "month_conversion = {\n",
    "    (1, 1): \"Jan\",\n",
    "    (1, 2): \"Feb\",\n",
    "    (1, 3): \"Mar\",\n",
    "    (1, 4): \"Apr\",\n",
    "    (1, 5): \"May\",\n",
    "    (1, 6): \"Jun\",\n",
    "    (2, 1): \"Jul\",\n",
    "    (2, 2): \"Aug\",\n",
    "    (2, 3): \"Sep\",\n",
    "    (2, 4): \"Oct\",\n",
    "    (2, 5): \"Nov\",\n",
    "    (2, 6): \"Dec\",\n",
    "}\n",
    "for coords, month in month_conversion.items():\n",
    "    text_conversion[coords] = month\n",
    "\n",
    "count = 1\n",
    "for r in range(3, 8):\n",
    "    for c in range(1, 8):\n",
    "        if count < 32:\n",
    "            text_conversion[(r, c)] = str(count)\n",
    "        count += 1\n",
    "\n",
    "\n",
    "month_cell = list(text_conversion.keys())[list(text_conversion.values()).index(month)]\n",
    "day_cell = list(text_conversion.keys())[list(text_conversion.values()).index(day)]\n",
    "print(month_cell, day_cell)\n",
    "r,c = month_cell\n",
    "contour_month_x = [c,c,c+1,c+1,c]\n",
    "contour_month_y = [8-r, 8-r+1, 8-r+1, 8-r, 8-r]\n",
    "r,c = day_cell\n",
    "contour_day_x = [c,c,c+1,c+1,c]\n",
    "contour_day_y = [8-r, 8-r+1, 8-r+1, 8-r, 8-r]\n",
    "\n",
    "grid = np.flipud(grid)\n",
    "\n",
    "fig, ax = plt.subplots()\n",
    "#ax.pcolormesh(grid, cmap=plt.cm.get_cmap('Set1', 9), edgecolors=\"k\", linewidths=1)\n",
    "# cmap = {500:'white', 50:'red', 100:'yellow', 150:'green', 200:'blue', 250:'brown', 300:'pink', 350:'brown', 400:'magenta'}\n",
    "from matplotlib import colors\n",
    "cmap = colors.ListedColormap(['white','tomato','yellow','lawngreen','lightblue','indianred', 'violet', 'mediumpurple', 'orange'])\n",
    "\n",
    "ax.pcolormesh(grid, cmap=cmap, edgecolors=\"k\", linewidths=1)\n",
    "\n",
    "for r,c in text_conversion.keys():\n",
    "    ax.text(r+0.3, 8-c+0.3, text_conversion[(c,r)])\n",
    "\n",
    "contour_x = [1,1,7,7,8,8,4,4,1]\n",
    "contour_y = [1,8,8,6,6,2,2,1,1]\n",
    "ax.plot(contour_x, contour_y,c='black', linewidth=4)\n",
    "ax.plot(contour_month_x, contour_month_y,c='red', linewidth=4)\n",
    "ax.plot(contour_day_x, contour_day_y,c='red', linewidth=4)\n",
    "ax.get_xaxis().set_visible(False)\n",
    "ax.get_yaxis().set_visible(False)\n",
    "ax.set_title(f'{month} - {day}')\n",
    "plt.show()\n"
   ]
  }
 ],
 "metadata": {
  "interpreter": {
   "hash": "916dbcbb3f70747c44a77c7bcd40155683ae19c65e1c03b4aa3499c5328201f1"
  },
  "kernelspec": {
   "display_name": "Python 3.8.10 64-bit",
   "language": "python",
   "name": "python3"
  },
  "language_info": {
   "codemirror_mode": {
    "name": "ipython",
    "version": 3
   },
   "file_extension": ".py",
   "mimetype": "text/x-python",
   "name": "python",
   "nbconvert_exporter": "python",
   "pygments_lexer": "ipython3",
   "version": "3.8.10"
  },
  "orig_nbformat": 4
 },
 "nbformat": 4,
 "nbformat_minor": 2
}
